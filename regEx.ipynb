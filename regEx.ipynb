{
  "nbformat": 4,
  "nbformat_minor": 0,
  "metadata": {
    "colab": {
      "name": "regEx.ipynb",
      "provenance": [],
      "collapsed_sections": [],
      "authorship_tag": "ABX9TyM0n0nO27XSdipx7cy40RwR",
      "include_colab_link": true
    },
    "kernelspec": {
      "name": "python3",
      "display_name": "Python 3"
    },
    "language_info": {
      "name": "python"
    }
  },
  "cells": [
    {
      "cell_type": "markdown",
      "metadata": {
        "id": "view-in-github",
        "colab_type": "text"
      },
      "source": [
        "<a href=\"https://colab.research.google.com/github/karthikkumbha/regex/blob/regex/regEx.ipynb\" target=\"_parent\"><img src=\"https://colab.research.google.com/assets/colab-badge.svg\" alt=\"Open In Colab\"/></a>"
      ]
    },
    {
      "cell_type": "code",
      "execution_count": null,
      "metadata": {
        "colab": {
          "base_uri": "https://localhost:8080/"
        },
        "id": "4L2G9GKzJRzx",
        "outputId": "27ff7043-839f-438e-fd91-164df9c0be9f"
      },
      "outputs": [
        {
          "output_type": "stream",
          "name": "stdout",
          "text": [
            "match\n"
          ]
        }
      ],
      "source": [
        "\n",
        "txt=\"iam karthik and iam studing in gitam and my native place is narasaraopet this is due to the rain in\"\n",
        "import  re\n",
        "a=re.search(\"karthik\",txt)\n",
        "if a:\n",
        "  print(\"match\")\n",
        "else:\n",
        "  print(\"not matched\")  "
      ]
    },
    {
      "cell_type": "code",
      "source": [
        "txt=\"iam karthik and iam studing in gitam and my native place is narasaraopet this is due to the rain in\"\n",
        "import  re\n",
        "a=re.search(\"vicky\",txt)\n",
        "if a:\n",
        "  print(\"match\")\n",
        "else:\n",
        "  print(\"not matched\")  "
      ],
      "metadata": {
        "colab": {
          "base_uri": "https://localhost:8080/"
        },
        "id": "rY7q_kgRLdaE",
        "outputId": "f8e65a26-adeb-43a8-994e-508cbde299a8"
      },
      "execution_count": null,
      "outputs": [
        {
          "output_type": "stream",
          "name": "stdout",
          "text": [
            "not matched\n"
          ]
        }
      ]
    },
    {
      "cell_type": "code",
      "source": [
        "txt=\"A text comic is published as a series of illustrations that can be read as a continuous story. However, within the illustrations themselves no text is used: no speech balloons, no onomatopoeias, no written indications to explain where the action takes place or how much time has passed\"\n",
        "import  re\n",
        "a=re.search(\"text\",txt)\n",
        "if a:\n",
        "  print(\"match\")\n",
        "else:\n",
        "  print(\"not matched\")  "
      ],
      "metadata": {
        "colab": {
          "base_uri": "https://localhost:8080/"
        },
        "id": "q2WbiVY8MHZZ",
        "outputId": "8ca85045-af3b-423e-db67-5d0c32fd7007"
      },
      "execution_count": null,
      "outputs": [
        {
          "output_type": "stream",
          "name": "stdout",
          "text": [
            "match\n"
          ]
        }
      ]
    },
    {
      "cell_type": "code",
      "source": [
        "txt=\"A text comic is published as a series of illustrations that can be read as a continuous story. However, within the illustrations themselves no text is used: no speech balloons, no onomatopoeias, no written indications to explain where the action takes place or how much time has passed\"\n",
        "import  re\n",
        "a=re.search(\"karthik\",txt)\n",
        "if a:\n",
        "  print(\"match\")\n",
        "else:\n",
        "  print(\"not matched\")  "
      ],
      "metadata": {
        "colab": {
          "base_uri": "https://localhost:8080/"
        },
        "id": "5JqGGoHtMemk",
        "outputId": "a3f07dd5-b22d-4dd7-ff10-185f59817533"
      },
      "execution_count": null,
      "outputs": [
        {
          "output_type": "stream",
          "name": "stdout",
          "text": [
            "not matched\n"
          ]
        }
      ]
    },
    {
      "cell_type": "code",
      "source": [
        "txt = \"karthik is studying at gitam\"\n",
        "import  re\n",
        "x = re.findall(\"[a-k]\", txt)\n",
        "print(x)"
      ],
      "metadata": {
        "id": "LmFROxXfMkbo",
        "colab": {
          "base_uri": "https://localhost:8080/"
        },
        "outputId": "8d2d76d4-df52-404f-d632-3ee422e371a4"
      },
      "execution_count": null,
      "outputs": [
        {
          "output_type": "stream",
          "name": "stdout",
          "text": [
            "['k', 'a', 'h', 'i', 'k', 'i', 'd', 'i', 'g', 'a', 'g', 'i', 'a']\n"
          ]
        }
      ]
    },
    {
      "cell_type": "code",
      "source": [
        "txt = \"karthik is studying at gitam and rank is 54663\"\n",
        "import  re\n",
        "x = re.findall(\"\\d\", txt)\n",
        "print(x)"
      ],
      "metadata": {
        "colab": {
          "base_uri": "https://localhost:8080/"
        },
        "id": "MMQfVMOGNckq",
        "outputId": "23e6122d-0c30-480d-a68e-904fe3d35bef"
      },
      "execution_count": null,
      "outputs": [
        {
          "output_type": "stream",
          "name": "stdout",
          "text": [
            "['5', '4', '6', '6', '3']\n"
          ]
        }
      ]
    },
    {
      "cell_type": "code",
      "source": [
        "txt = \"karthik is studying at gitam rank is 345\"\n",
        "import  re\n",
        "x = re.findall(\"3..\", txt)\n",
        "print(x)"
      ],
      "metadata": {
        "colab": {
          "base_uri": "https://localhost:8080/"
        },
        "id": "9Tnri7DOO3Z-",
        "outputId": "f348790b-f7c1-485b-e321-a913e904045f"
      },
      "execution_count": null,
      "outputs": [
        {
          "output_type": "stream",
          "name": "stdout",
          "text": [
            "['345']\n"
          ]
        }
      ]
    },
    {
      "cell_type": "code",
      "source": [
        "\n",
        "txt=\"iam karthik and iam studing in gitam and my native place is narasaraopet this is due to the rain in\"\n",
        "import  re\n",
        "a=re.search(\"hello\",txt)\n",
        "if a:\n",
        "  print(\"Yes, the string starts with 'karthik'\")\n",
        "else:\n",
        "  print(\"No match\")\n"
      ],
      "metadata": {
        "colab": {
          "base_uri": "https://localhost:8080/"
        },
        "id": "3DWQrZMxPd4w",
        "outputId": "48df141d-2de8-47e7-eb24-21d6001bd791"
      },
      "execution_count": null,
      "outputs": [
        {
          "output_type": "stream",
          "name": "stdout",
          "text": [
            "No match\n"
          ]
        }
      ]
    },
    {
      "cell_type": "code",
      "source": [
        "txt=\"iam karthik and iam studing in gitam and my native place is narasaraopet this is due to the rain in\"\n",
        "import  re\n",
        "a=re.search(\"rain\",txt)\n",
        "if a:\n",
        "  print(\"Yes, the string ends with 'rain'\")\n",
        "else:\n",
        "  print(\"No match\")"
      ],
      "metadata": {
        "colab": {
          "base_uri": "https://localhost:8080/"
        },
        "id": "L-RW6miIQDEh",
        "outputId": "80147a17-0c4c-4319-e0bc-eb6194bd6a58"
      },
      "execution_count": null,
      "outputs": [
        {
          "output_type": "stream",
          "name": "stdout",
          "text": [
            "Yes, the string ends with 'rain'\n"
          ]
        }
      ]
    },
    {
      "cell_type": "code",
      "source": [
        "txt=\"iam karthik and iam studing in gitam and my native place is narasaraopet this is due to the rain in\"\n",
        "import  re\n",
        "x = re.findall(\"stu.*g\", txt)\n",
        "print(x)"
      ],
      "metadata": {
        "colab": {
          "base_uri": "https://localhost:8080/"
        },
        "id": "fq-CsgN-Q3U5",
        "outputId": "37ba0f72-6670-4fd6-cab3-7edea148a3ac"
      },
      "execution_count": null,
      "outputs": [
        {
          "output_type": "stream",
          "name": "stdout",
          "text": [
            "['studing in g']\n"
          ]
        }
      ]
    },
    {
      "cell_type": "code",
      "source": [
        "txt=\"iam karthik and iam studing in gitam and my native place is narasaraopet this is due to the rain in\"\n",
        "import  re\n",
        "a= re.findall(\"ka.+k\",txt)\n",
        "print(a)"
      ],
      "metadata": {
        "colab": {
          "base_uri": "https://localhost:8080/"
        },
        "id": "W2boy6fcRVSf",
        "outputId": "55f03b96-7661-4876-c57c-99149f955342"
      },
      "execution_count": null,
      "outputs": [
        {
          "output_type": "stream",
          "name": "stdout",
          "text": [
            "['karthik']\n"
          ]
        }
      ]
    },
    {
      "cell_type": "code",
      "source": [
        "txt=\"iam karthik and iam studing in gitam and my native place is narasaraopet this is due to the rain in\"\n",
        "import  re\n",
        "a= re.findall(\"ka.?k\",txt)\n",
        "print(a)"
      ],
      "metadata": {
        "colab": {
          "base_uri": "https://localhost:8080/"
        },
        "id": "yBaoCN3sTJST",
        "outputId": "604ed595-be30-457b-ab68-31a73c305509"
      },
      "execution_count": null,
      "outputs": [
        {
          "output_type": "stream",
          "name": "stdout",
          "text": [
            "[]\n"
          ]
        }
      ]
    },
    {
      "cell_type": "code",
      "source": [
        "txt==\"this is karthik iam for gitam The vision  services. You may opt-out at any time\"\n",
        "import re\n",
        "a = re.findall(\"ka.{4}ik\", txt)\n",
        "print(a)"
      ],
      "metadata": {
        "id": "7j8bP5AfVcHL",
        "colab": {
          "base_uri": "https://localhost:8080/"
        },
        "outputId": "3c556b32-1273-44ff-8cd0-516bdba5aaf3"
      },
      "execution_count": null,
      "outputs": [
        {
          "output_type": "stream",
          "name": "stdout",
          "text": [
            "[]\n"
          ]
        }
      ]
    },
    {
      "cell_type": "code",
      "source": [
        "import re\n",
        "txt = \"The rain in Spain falls mainly in the plain!\"\n",
        "x = re.findall(\"falls|stays\", txt)\n",
        "print(x)\n",
        "if x:\n",
        "  print(\"Yes, there is at least one match!\")\n",
        "else:\n",
        "  print(\"No match\")"
      ],
      "metadata": {
        "id": "XfSvYTnc1R_o",
        "colab": {
          "base_uri": "https://localhost:8080/"
        },
        "outputId": "27b5efe3-0ecd-42c5-90b6-bb7fa25e4ebd"
      },
      "execution_count": 1,
      "outputs": [
        {
          "output_type": "stream",
          "name": "stdout",
          "text": [
            "['falls']\n",
            "Yes, there is at least one match!\n"
          ]
        }
      ]
    },
    {
      "cell_type": "code",
      "source": [
        ""
      ],
      "metadata": {
        "id": "8KsdqWHB3X24"
      },
      "execution_count": null,
      "outputs": []
    }
  ]
}